{
 "cells": [
  {
   "cell_type": "markdown",
   "metadata": {
    "id": "n_Z4EqVd9oCa"
   },
   "source": [
    "# CS4320 - Introduction Machine Learning \n",
    "\n",
    "## Homework 1: Programming with Python  "
   ]
  },
  {
   "cell_type": "markdown",
   "metadata": {},
   "source": [
    "**Please type your name and A number here:**"
   ]
  },
  {
   "cell_type": "code",
   "execution_count": 308,
   "metadata": {},
   "outputs": [],
   "source": [
    "Name = \"Rylei Mindrum\"\n",
    "assert Name != \"\", 'Please enter your name in the above quotation marks, thanks!'\n",
    "\n",
    "A_number = \"A02352206\"\n",
    "assert A_number != \"\", 'Please enter your A-number in the above quotation marks, thanks!'\n",
    "\n",
    "Credit = \"ChatGPT4 and ChatGPT3.5\""
   ]
  },
  {
   "cell_type": "markdown",
   "metadata": {
    "id": "6c600H909oCc"
   },
   "source": [
    "### About this assignment:\n",
    "The main purpose of this assignment is to check whether your programming knowledge is adequate to take CS4320. This assignment covers two python packages, [`numpy`](https://numpy.org/) and [`pandas`](https://pandas.pydata.org/), which we'll be using throughout the course. For some of you, Python/numpy/pandas will be familiar; for others, it will be new. Either way, ***if you find this assignment very difficult then that could be a sign that you will struggle later on in the course***. While CS4320 is a machine learning course rather than a programming course, programming will be an essential part of it."
   ]
  },
  {
   "cell_type": "markdown",
   "metadata": {
    "id": "CGstNyRA9oCe"
   },
   "source": [
    "Imports\n",
    "------"
   ]
  },
  {
   "cell_type": "code",
   "execution_count": 309,
   "metadata": {
    "id": "JKg9c4p59oCe"
   },
   "outputs": [],
   "source": [
    "import matplotlib.pyplot as plt\n",
    "import numpy as np\n",
    "import pandas as pd"
   ]
  },
  {
   "cell_type": "markdown",
   "metadata": {
    "id": "J6xQz-6d9oCg",
    "toc-hr-collapsed": true
   },
   "source": [
    "## Exercise 1: Loading files with Pandas\n",
    "rubric={points:30}\n",
    "\n",
    "When working with tabular data, you will typically be creating Pandas dataframes by reading data from .csv files using `pd.read_csv()`. The documentation for this function is available [here](https://pandas.pydata.org/pandas-docs/stable/reference/api/pandas.read_csv.html)."
   ]
  },
  {
   "cell_type": "markdown",
   "metadata": {
    "id": "y7TtD6Ja9oCg",
    "nbgrader": {
     "grade": false,
     "grade_id": "cell-e9d5646932eee4f9",
     "locked": true,
     "schema_version": 3,
     "solution": false
    }
   },
   "source": [
    "In the \"data\" folder in this homework repository there are 6 different .csv files named `wine_#.csv/.txt`. Look at each of these files and use `pd.read_csv()` to load these data so that all of the 6 different .csv/.txt are resemble the following:\n",
    "\n",
    "| Bottle | Grape | Origin | Alcohol | pH | Colour | Aroma |\n",
    "| :---: | :---: | :---: | :---: | :---: | :---: | :---: |\n",
    "| 1 |  Chardonnay | Australia | 14.23 | 3.51 | White | Floral |\n",
    "| 2 |  Pinot Grigio | Italy | 13.20 | 3.30 | White | Fruity |\n",
    "| 3 |  Pinot Blanc | France | 13.16 | 3.16 | White | Citrus |\n",
    "| 4 |  Shiraz | Chile | 14.91 | 3.39 | Red | Berry |\n",
    "| 5 |  Malbec | Argentina | 13.83 | 3.28 | Red | Fruity |\n",
    "\n",
    "You are provided with tests that use `df.equals()` to check that all the dataframes are identical. If you're in a situation where the two dataframes look identical but `df.equals()` is returning `False`, it may be an issue of types - try checking `df.index`, `df.columns`, or `df.info()`."
   ]
  },
  {
   "cell_type": "code",
   "execution_count": 310,
   "metadata": {},
   "outputs": [
    {
     "data": {
      "text/plain": [
       "'C:\\\\Users\\\\ryryp\\\\Downloads'"
      ]
     },
     "execution_count": 310,
     "metadata": {},
     "output_type": "execute_result"
    }
   ],
   "source": [
    "import os\n",
    "os.getcwd()"
   ]
  },
  {
   "cell_type": "code",
   "execution_count": 311,
   "metadata": {
    "id": "Ld_XERz19oCh"
   },
   "outputs": [
    {
     "name": "stdout",
     "output_type": "stream",
     "text": [
      "   Bottle         Grape     Origin  Alcohol    pH Colour   Aroma\n",
      "0       1    Chardonnay  Australia    14.23  3.51  White  Floral\n",
      "1       2  Pinot Grigio      Italy    13.20  3.30  White  Fruity\n",
      "2       3   Pinot Blanc     France    13.16  3.16  White  Citrus\n",
      "3       4        Shiraz      Chile    14.91  3.39    Red   Berry\n",
      "4       5        Malbec  Argentina    13.83  3.28    Red  Fruity\n",
      "Bottle       int64\n",
      "Grape       object\n",
      "Origin      object\n",
      "Alcohol    float64\n",
      "pH         float64\n",
      "Colour      object\n",
      "Aroma       object\n",
      "dtype: object\n",
      "   Bottle         Grape     Origin  Alcohol    pH Colour   Aroma\n",
      "0       1    Chardonnay  Australia    14.23  3.51  White  Floral\n",
      "1       2  Pinot Grigio      Italy    13.20  3.30  White  Fruity\n",
      "2       3   Pinot Blanc     France    13.16  3.16  White  Citrus\n",
      "3       4        Shiraz      Chile    14.91  3.39    Red   Berry\n",
      "4       5        Malbec  Argentina    13.83  3.28    Red  Fruity\n",
      "Bottle       int64\n",
      "Grape       object\n",
      "Origin      object\n",
      "Alcohol    float64\n",
      "pH         float64\n",
      "Colour      object\n",
      "Aroma       object\n",
      "dtype: object\n",
      "Bottle     0\n",
      "Grape      0\n",
      "Origin     0\n",
      "Alcohol    0\n",
      "pH         0\n",
      "Colour     0\n",
      "Aroma      0\n",
      "dtype: int64\n",
      "Bottle     0\n",
      "Grape      0\n",
      "Origin     0\n",
      "Alcohol    0\n",
      "pH         0\n",
      "Colour     0\n",
      "Aroma      0\n",
      "dtype: int64\n",
      "         Bottle    Alcohol        pH\n",
      "count  5.000000   5.000000  5.000000\n",
      "mean   3.000000  13.866000  3.328000\n",
      "std    1.581139   0.735819  0.130652\n",
      "min    1.000000  13.160000  3.160000\n",
      "25%    2.000000  13.200000  3.280000\n",
      "50%    3.000000  13.830000  3.300000\n",
      "75%    4.000000  14.230000  3.390000\n",
      "max    5.000000  14.910000  3.510000\n",
      "         Bottle    Alcohol        pH\n",
      "count  5.000000   5.000000  5.000000\n",
      "mean   3.000000  13.866000  3.328000\n",
      "std    1.581139   0.735819  0.130652\n",
      "min    1.000000  13.160000  3.160000\n",
      "25%    2.000000  13.200000  3.280000\n",
      "50%    3.000000  13.830000  3.300000\n",
      "75%    4.000000  14.230000  3.390000\n",
      "max    5.000000  14.910000  3.510000\n"
     ]
    }
   ],
   "source": [
    "# Insert your code here:\n",
    "import pandas as pd\n",
    "\n",
    "# Set the column names for standardization\n",
    "column_names = ['Bottle', 'Grape', 'Origin', 'Alcohol', 'pH', 'Colour', 'Aroma']\n",
    "\n",
    "# Use list comprehension to generate file paths\n",
    "file_paths = [f\"C:\\\\Users\\\\ryryp\\\\Downloads\\\\wine_{i}.csv\" for i in range(1, 7)]\n",
    "\n",
    "dataframes = []\n",
    "\n",
    "for idx, file in enumerate(file_paths):\n",
    "    if idx == 1:  # For File 2\n",
    "        df = pd.read_csv(file, names=column_names, skiprows=2)\n",
    "    elif idx == 2:  # For File 3\n",
    "        df = pd.read_csv(file, names=column_names, skiprows=1, skipfooter=2, engine='python')\n",
    "    elif idx == 4:  # For File 5\n",
    "        temp_df = pd.read_csv(file, skiprows=1, header=None)\n",
    "        temp_df.drop(columns=[0], inplace=True)  # Drop the first column\n",
    "        temp_df = temp_df.shift(axis=1)  # Shift columns to the right\n",
    "        temp_df.columns = column_names\n",
    "        temp_df['Bottle'] = temp_df.index + 1  # Set \"Bottle\" column values as row numbers\n",
    "        df = temp_df\n",
    "    elif idx == 5:\n",
    "        delimiter = '\\t' if 'R\\tO\\tW' in open(file).readline() else ','\n",
    "        df = pd.read_csv(file, skiprows=1, delimiter=delimiter)  # start reading from the second row\n",
    "        df.drop(columns=['Unnamed: 8', 'C'], inplace=True)\n",
    "\n",
    "    else:  # For File 1 and 4\n",
    "        df = pd.read_csv(file, names=column_names, skiprows=1)\n",
    "    dataframes.append(df)\n",
    "\n",
    "df1, df2, df3, df4, df5, df6 = dataframes\n",
    "\n",
    "df6 = df6[pd.to_numeric(df6['Bottle'], errors='coerce').notna()].copy()\n",
    "df6['Bottle'] = df6['Bottle'].astype('int64')\n",
    "\n",
    "def compare_dataframes_verbose(df1, df2):\n",
    "    differences = {}\n",
    "    \n",
    "    for row in range(df1.shape[0]):\n",
    "        if not df1.iloc[row].equals(df2.iloc[row]):\n",
    "            differences[row] = {\n",
    "                'df1': df1.iloc[row].to_dict(),\n",
    "                'df2': df2.iloc[row].to_dict()\n",
    "            }\n",
    "    \n",
    "            print(f\"\\nDifferences in row {row + 1}:\")\n",
    "            for col, value in differences[row]['df1'].items():\n",
    "                if value != differences[row]['df2'][col]:\n",
    "                    print(f\"Column {col}:\")\n",
    "                    print(f\"  df1: {value}\")\n",
    "                    print(f\"  df6: {differences[row]['df2'][col]}\")\n",
    "                    \n",
    "    return differences\n",
    "\n",
    "differences = compare_dataframes_verbose(df1, df6)\n",
    "\n",
    "\n",
    "print(df6.head())\n",
    "print(df6.dtypes)\n",
    "\n",
    "print(df1.head())\n",
    "print(df1.dtypes)\n",
    "\n",
    "print(df1.isna().sum())\n",
    "print(df6.isna().sum())\n",
    "\n",
    "print(df1.describe())\n",
    "print(df6.describe())"
   ]
  },
  {
   "cell_type": "code",
   "execution_count": 312,
   "metadata": {
    "id": "4E2Ggd-aFndq",
    "scrolled": true
   },
   "outputs": [
    {
     "name": "stdout",
     "output_type": "stream",
     "text": [
      "All tests passed.\n"
     ]
    }
   ],
   "source": [
    "for i, df in enumerate([df2, df3, df4, df5, df6]):\n",
    "    assert df1.equals(df), f\"df1 not equal to df{i + 2}\"\n",
    "print(\"All tests passed.\")"
   ]
  },
  {
   "cell_type": "markdown",
   "metadata": {
    "id": "S0Yh5zJf9oCi",
    "toc-hr-collapsed": true
   },
   "source": [
    "## Exercise 2: The Titanic dataset\n",
    "Rubric={points:52}\n",
    "\n",
    "The file *titanic.csv* contains data of 1309 passengers who were on the Titanic's unfortunate voyage. For each passenger, the following data are recorded:\n",
    "\n",
    "* survival - Survival (0 = No; 1 = Yes)\n",
    "* class - Passenger Class (1 = 1st; 2 = 2nd; 3 = 3rd)\n",
    "* name - Name\n",
    "* sex - Sex\n",
    "* age - Age\n",
    "* sibsp - Number of Siblings/Spouses Aboard\n",
    "* parch - Number of Parents/Children Aboard\n",
    "* ticket - Ticket Number\n",
    "* fare - Passenger Fare\n",
    "* cabin - Cabin\n",
    "* embarked - Port of Embarkation (C = Cherbourg; Q = Queenstown; S = Southampton)\n",
    "* boat - Lifeboat (if survived)\n",
    "* body - Body number (if did not survive and body was recovered)\n",
    "\n",
    "In this exercise you will perform a number of wrangling operations to manipulate and extract subsets of the data.\n",
    "\n",
    "Note: many popular datasets have sex as a feature where the possible values are male and female. This representation reflects how the data were collected and is not meant to imply that, for example, gender is binary."
   ]
  },
  {
   "cell_type": "markdown",
   "metadata": {
    "id": "nv2cG6BF9oCi",
    "nbgrader": {
     "grade": false,
     "grade_id": "cell-8f49a0571a8d666f",
     "locked": true,
     "schema_version": 3,
     "solution": false
    }
   },
   "source": [
    "#### 2(a)\n",
    "rubric={points:3}\n",
    "\n",
    "Load the `titanic.csv` dataset into a pandas dataframe named `titanic_df`."
   ]
  },
  {
   "cell_type": "code",
   "execution_count": 313,
   "metadata": {
    "id": "7pFSIDc59oCj",
    "nbgrader": {
     "grade": false,
     "grade_id": "cell-b6e4d3bb99cced81",
     "locked": false,
     "schema_version": 3,
     "solution": true
    }
   },
   "outputs": [],
   "source": [
    "# Insert your code here:\n",
    "import pandas as pd\n",
    "\n",
    "# Load the Titanic dataset into a DataFrame\n",
    "titanic_df = pd.read_csv('titanic.csv')"
   ]
  },
  {
   "cell_type": "code",
   "execution_count": 314,
   "metadata": {
    "id": "gAaVF4AWFvoi"
   },
   "outputs": [
    {
     "name": "stdout",
     "output_type": "stream",
     "text": [
      "Success\n"
     ]
    }
   ],
   "source": [
    "assert set(titanic_df.columns) == set(\n",
    "    [\n",
    "        \"pclass\",\n",
    "        \"survived\",\n",
    "        \"name\",\n",
    "        \"sex\",\n",
    "        \"age\",\n",
    "        \"sibsp\",\n",
    "        \"parch\",\n",
    "        \"ticket\",\n",
    "        \"fare\",\n",
    "        \"cabin\",\n",
    "        \"embarked\",\n",
    "        \"boat\",\n",
    "        \"body\",\n",
    "        \"home.dest\",\n",
    "    ]\n",
    "), \"All required columns are not present\"\n",
    "assert len(titanic_df.index) == 1309, \"Wrong number of rows in dataframe\"\n",
    "print(\"Success\")"
   ]
  },
  {
   "cell_type": "markdown",
   "metadata": {
    "id": "uPP5BTNV9oCj",
    "nbgrader": {
     "grade": false,
     "grade_id": "cell-093e1ca409a216a2",
     "locked": true,
     "schema_version": 3,
     "solution": false
    }
   },
   "source": [
    "#### 2(b)\n",
    "rubric={points:3}\n",
    "\n",
    "The column names `sibsp` and `parch` are not very descriptive. Use `df.rename()` to rename these columns to `siblings_spouses` and `parents_children` respectively."
   ]
  },
  {
   "cell_type": "code",
   "execution_count": 315,
   "metadata": {
    "id": "3kPfHGJ29oCk",
    "nbgrader": {
     "grade": false,
     "grade_id": "cell-99e694773668d8a1",
     "locked": false,
     "schema_version": 3,
     "solution": true
    }
   },
   "outputs": [],
   "source": [
    "# Insert your code here:\n",
    "titanic_df.rename(columns={\"sibsp\": \"siblings_spouses\", \"parch\": \"parents_children\"}, inplace=True)"
   ]
  },
  {
   "cell_type": "code",
   "execution_count": 316,
   "metadata": {
    "id": "w_Cu7_iS9oCk",
    "nbgrader": {
     "grade": true,
     "grade_id": "cell-6c0798bceeeab962",
     "locked": true,
     "points": 1,
     "schema_version": 3,
     "solution": false
    }
   },
   "outputs": [
    {
     "name": "stdout",
     "output_type": "stream",
     "text": [
      "Success\n"
     ]
    }
   ],
   "source": [
    "assert set([\"siblings_spouses\", \"parents_children\"]).issubset(\n",
    "    titanic_df.columns\n",
    "), \"Column names were not changed properly\"\n",
    "print(\"Success\")"
   ]
  },
  {
   "cell_type": "markdown",
   "metadata": {
    "id": "zwiRyl7s9oCk",
    "nbgrader": {
     "grade": false,
     "grade_id": "cell-35f94190fc8af3fb",
     "locked": true,
     "schema_version": 3,
     "solution": false
    }
   },
   "source": [
    "#### 2(c)\n",
    "rubric={points:3}\n",
    "\n",
    "We will practice indexing different subsets of the dataframe in the following questions.\n",
    "\n",
    "Select the column `age` using single bracket notation `[]`. Return the type of the object."
   ]
  },
  {
   "cell_type": "code",
   "execution_count": 317,
   "metadata": {
    "id": "JmIu5oU39oCk",
    "nbgrader": {
     "grade": true,
     "grade_id": "cell-18b067281f9e13ac",
     "locked": false,
     "points": 0,
     "schema_version": 3,
     "solution": true
    }
   },
   "outputs": [
    {
     "name": "stdout",
     "output_type": "stream",
     "text": [
      "<class 'pandas.core.series.Series'>\n"
     ]
    }
   ],
   "source": [
    "# Insert your code here:\n",
    "# Select the \"age\" column using single bracket notation\n",
    "age_column = titanic_df['age']\n",
    "\n",
    "# Return the type of the object\n",
    "column_type = type(age_column)\n",
    "print(column_type)"
   ]
  },
  {
   "cell_type": "markdown",
   "metadata": {
    "id": "fw7USj2K9oCk",
    "nbgrader": {
     "grade": false,
     "grade_id": "cell-5b123152df1d576a",
     "locked": true,
     "schema_version": 3,
     "solution": false
    }
   },
   "source": [
    "#### 2(d)\n",
    "rubric={points:3}\n",
    "\n",
    "Now select the `age` using double bracket notation `[[]]`.  Return the type of the object."
   ]
  },
  {
   "cell_type": "code",
   "execution_count": 318,
   "metadata": {
    "id": "0s9Jjy3I9oCl",
    "nbgrader": {
     "grade": true,
     "grade_id": "cell-0d32262f000b09f4",
     "locked": false,
     "points": 0,
     "schema_version": 3,
     "solution": true
    }
   },
   "outputs": [
    {
     "name": "stdout",
     "output_type": "stream",
     "text": [
      "<class 'pandas.core.frame.DataFrame'>\n"
     ]
    }
   ],
   "source": [
    "# Insert your code here:\n",
    "age_column_df = titanic_df[['age']]\n",
    "\n",
    "# Return the type of the object\n",
    "column_type = type(age_column_df)\n",
    "print(column_type)"
   ]
  },
  {
   "cell_type": "markdown",
   "metadata": {
    "id": "CLbN4NG_9oCl",
    "nbgrader": {
     "grade": false,
     "grade_id": "cell-5b9513513d0b0e22",
     "locked": true,
     "schema_version": 3,
     "solution": false
    }
   },
   "source": [
    "#### 2(e)\n",
    "rubric={points:3}\n",
    "\n",
    "Select the columns `pclass`, `survived`, and `age` using a single line of code."
   ]
  },
  {
   "cell_type": "code",
   "execution_count": 319,
   "metadata": {
    "id": "9GXdeSIK9oCl",
    "nbgrader": {
     "grade": true,
     "grade_id": "cell-d3fdbdd8c0af6b49",
     "locked": false,
     "points": 0,
     "schema_version": 3,
     "solution": true
    }
   },
   "outputs": [],
   "source": [
    "# Insert your code here:\n",
    "selected_columns = titanic_df[['pclass', 'survived', 'age']]"
   ]
  },
  {
   "cell_type": "markdown",
   "metadata": {
    "id": "98OvCeEn9oCl",
    "nbgrader": {
     "grade": false,
     "grade_id": "cell-a7b37913a746262d",
     "locked": true,
     "schema_version": 3,
     "solution": false
    }
   },
   "source": [
    "#### 2(f)\n",
    "rubric={points:4}\n",
    "\n",
    "Use the `iloc` method to obtain the first 5 rows of the columns `name`, `sex` and `age` using a single line of code."
   ]
  },
  {
   "cell_type": "code",
   "execution_count": 320,
   "metadata": {
    "id": "uBESdffn9oCl"
   },
   "outputs": [],
   "source": [
    "# Insert your code here:\n",
    "selected_rows = titanic_df.iloc[:5, titanic_df.columns.get_indexer(['name', 'sex', 'age'])]"
   ]
  },
  {
   "cell_type": "markdown",
   "metadata": {
    "id": "nfcgP55k9oCm",
    "nbgrader": {
     "grade": false,
     "grade_id": "cell-37f2418e03a50b60",
     "locked": true,
     "schema_version": 3,
     "solution": false
    }
   },
   "source": [
    "#### 2(g)\n",
    "rubric={points:4}\n",
    "\n",
    "Now use the `loc` method to obtain the first 5 rows of the columns `name`, `sex` and `age` using a single line of code."
   ]
  },
  {
   "cell_type": "code",
   "execution_count": 321,
   "metadata": {
    "id": "V4YR0GY09oCm"
   },
   "outputs": [],
   "source": [
    "# Insert your code here:\n",
    "selected_rows = titanic_df.loc[:4, ['name', 'sex', 'age']]"
   ]
  },
  {
   "cell_type": "markdown",
   "metadata": {
    "id": "1KmD9LZS9oCm",
    "nbgrader": {
     "grade": false,
     "grade_id": "cell-07036a85b1202239",
     "locked": true,
     "schema_version": 3,
     "solution": false
    }
   },
   "source": [
    "#### 2(h)\n",
    "rubric={points:4}\n",
    "\n",
    "How many passengers survived (`survived = 1`) the disaster? Hint: try using `df.query()` or `[]` notation to subset the dataframe and then `df.shape` to check its size."
   ]
  },
  {
   "cell_type": "code",
   "execution_count": 322,
   "metadata": {
    "id": "iK480-Qo9oCm"
   },
   "outputs": [
    {
     "name": "stdout",
     "output_type": "stream",
     "text": [
      "Number of passengers who survived: 500\n"
     ]
    }
   ],
   "source": [
    "# Insert your code here:\n",
    "# Use [] notation to filter passengers who survived\n",
    "survived_passengers = titanic_df[titanic_df['survived'] == 1]\n",
    "\n",
    "# Check the number of survived passengers\n",
    "num_survived = survived_passengers.shape[0]\n",
    "print(f\"Number of passengers who survived: {num_survived}\")"
   ]
  },
  {
   "cell_type": "markdown",
   "metadata": {
    "id": "18VfKdi99oCn",
    "nbgrader": {
     "grade": false,
     "grade_id": "cell-560ca2c33cf74784",
     "locked": true,
     "schema_version": 3,
     "solution": false
    }
   },
   "source": [
    "#### 2(i)\n",
    "rubric={points:4}\n",
    "\n",
    "How many passengers that survived the disaster (`survived = 1`) were over 60 years of age?"
   ]
  },
  {
   "cell_type": "code",
   "execution_count": 323,
   "metadata": {
    "id": "t2Fox54y9oCn",
    "nbgrader": {
     "grade": true,
     "grade_id": "cell-123d66686c410308",
     "locked": false,
     "points": 0,
     "schema_version": 3,
     "solution": true,
     "task": false
    }
   },
   "outputs": [
    {
     "name": "stdout",
     "output_type": "stream",
     "text": [
      "Number of passengers who survived and are over 60 years old: 8\n"
     ]
    }
   ],
   "source": [
    "# Insert your code here:\n",
    "# Use df.query() to filter passengers who survived and are over 60 years old\n",
    "survived_over_60 = titanic_df.query('survived == 1 and age > 60')\n",
    "\n",
    "# Check the number of survived passengers over 60 years old\n",
    "num_survived_over_60 = survived_over_60.shape[0]\n",
    "print(f\"Number of passengers who survived and are over 60 years old: {num_survived_over_60}\")"
   ]
  },
  {
   "cell_type": "markdown",
   "metadata": {
    "id": "H3nH0Wrq9oCn",
    "nbgrader": {
     "grade": false,
     "grade_id": "cell-64aa731d50112f88",
     "locked": true,
     "schema_version": 3,
     "solution": false
    }
   },
   "source": [
    "#### 2(j)\n",
    "rubric={points:4}\n",
    "\n",
    "What was the lowest and highest fare paid to board the titanic? Store your answers as floats in the variables `lowest` and `highest`."
   ]
  },
  {
   "cell_type": "code",
   "execution_count": 324,
   "metadata": {
    "id": "EHlJePlK9oCn",
    "nbgrader": {
     "grade": false,
     "grade_id": "cell-54dc8e011e41a6b5",
     "locked": false,
     "schema_version": 3,
     "solution": true
    }
   },
   "outputs": [
    {
     "name": "stdout",
     "output_type": "stream",
     "text": [
      "Lowest fare paid: 0.00\n",
      "Highest fare paid: 512.33\n"
     ]
    }
   ],
   "source": [
    "# Insert your code here:\n",
    "# Find the lowest and highest fare\n",
    "lowest = titanic_df['fare'].min()\n",
    "highest = titanic_df['fare'].max()\n",
    "\n",
    "# Print the results\n",
    "print(f\"Lowest fare paid: {lowest:.2f}\")\n",
    "print(f\"Highest fare paid: {highest:.2f}\")\n",
    "\n"
   ]
  },
  {
   "cell_type": "markdown",
   "metadata": {
    "id": "bzFMMAhn9oCn",
    "nbgrader": {
     "grade": false,
     "grade_id": "cell-2f06f5b42b270b44",
     "locked": true,
     "schema_version": 3,
     "solution": false
    }
   },
   "source": [
    "#### 2(k)\n",
    "rubric={points:4}\n",
    "\n",
    "Sort the dataframe by fare paid (most to least)."
   ]
  },
  {
   "cell_type": "code",
   "execution_count": 325,
   "metadata": {
    "id": "3JMM99AH9oCn"
   },
   "outputs": [
    {
     "name": "stdout",
     "output_type": "stream",
     "text": [
      "   pclass  survived                                               name  \\\n",
      "0       1         1                             Lesurer, Mr. Gustave J   \n",
      "1       1         1                                   Ward, Miss. Anna   \n",
      "2       1         1                 Cardeza, Mr. Thomas Drake Martinez   \n",
      "3       1         1  Cardeza, Mrs. James Warburton Martinez (Charlo...   \n",
      "4       1         1                         Fortune, Miss. Mabel Helen   \n",
      "\n",
      "      sex   age  siblings_spouses  parents_children    ticket      fare  \\\n",
      "0    male  35.0                 0                 0  PC 17755  512.3292   \n",
      "1  female  35.0                 0                 0  PC 17755  512.3292   \n",
      "2    male  36.0                 0                 1  PC 17755  512.3292   \n",
      "3  female  58.0                 0                 1  PC 17755  512.3292   \n",
      "4  female  23.0                 3                 2     19950  263.0000   \n",
      "\n",
      "         cabin embarked boat  body  \\\n",
      "0         B101        C    3   NaN   \n",
      "1          NaN        C    3   NaN   \n",
      "2  B51 B53 B55        C    3   NaN   \n",
      "3  B51 B53 B55        C    3   NaN   \n",
      "4  C23 C25 C27        S   10   NaN   \n",
      "\n",
      "                                        home.dest  \n",
      "0                                             NaN  \n",
      "1                                             NaN  \n",
      "2  Austria-Hungary / Germantown, Philadelphia, PA  \n",
      "3                    Germantown, Philadelphia, PA  \n",
      "4                                    Winnipeg, MB  \n"
     ]
    }
   ],
   "source": [
    "# Insert your code here:\n",
    "# Sort the DataFrame by fare in descending order\n",
    "titanic_df = titanic_df.sort_values(by='fare', ascending=False)\n",
    "\n",
    "# Reset the index after sorting\n",
    "titanic_df = titanic_df.reset_index(drop=True)\n",
    "\n",
    "# Print the sorted DataFrame\n",
    "print(titanic_df.head())\n"
   ]
  },
  {
   "cell_type": "markdown",
   "metadata": {
    "id": "0W510AZQ9oCn"
   },
   "source": [
    "#### 2(l)\n",
    "rubric={points:3}\n",
    "\n",
    "Save the sorted dataframe to a .csv file called 'titanic_fares.csv' using `to_csv()`."
   ]
  },
  {
   "cell_type": "code",
   "execution_count": 326,
   "metadata": {
    "id": "9SB4sajQ9oCo",
    "nbgrader": {
     "grade": true,
     "grade_id": "cell-4be555e930c36650",
     "locked": false,
     "points": 0,
     "schema_version": 3,
     "solution": true
    }
   },
   "outputs": [],
   "source": [
    "# Insert your code here\n",
    "titanic_df.to_csv('titanic_fares.csv', index=False)\n"
   ]
  },
  {
   "cell_type": "markdown",
   "metadata": {
    "id": "ZwtjOR-s9oCo"
   },
   "source": [
    "#### 2(m)\n",
    "rubric={points:5}\n",
    "\n",
    "Create a scatter plot of fare (y-axis) vs. age (x-axis). You are welcome to use pandas built-in plotting or `matplotlib`. "
   ]
  },
  {
   "cell_type": "code",
   "execution_count": 327,
   "metadata": {
    "id": "cDhnSHKh9oCo"
   },
   "outputs": [
    {
     "data": {
      "image/png": "[encoded data removed]",
      "text/plain": [
       "<Figure size 1000x600 with 1 Axes>"
      ]
     },
     "metadata": {},
     "output_type": "display_data"
    }
   ],
   "source": [
    "# Insert your code here\n",
    "\n",
    "import matplotlib.pyplot as plt\n",
    "\n",
    "# Create the scatter plot\n",
    "plt.figure(figsize=(10, 6))  # Optional: Set the figure size\n",
    "plt.scatter(titanic_df['age'], titanic_df['fare'], alpha=0.5)\n",
    "plt.xlabel('Age')\n",
    "plt.ylabel('Fare')\n",
    "plt.title('Scatter Plot of Fare vs. Age')\n",
    "plt.grid(True)\n",
    "\n",
    "# Show the plot\n",
    "plt.show()\n",
    "\n"
   ]
  },
  {
   "cell_type": "markdown",
   "metadata": {
    "id": "Xj65BXxc9oCo"
   },
   "source": [
    "#### 2(n)\n",
    "rubric={points:5}\n",
    "\n",
    "Create a bar plot of `embarked` values. (You need to plot the frequency of 'embarked')\n",
    "\n",
    "> Make sure to name the axes and give a title to your plot. "
   ]
  },
  {
   "cell_type": "code",
   "execution_count": 328,
   "metadata": {
    "id": "ikbLBHE99oCo"
   },
   "outputs": [
    {
     "data": {
      "image/png": "[encoded data removed]",
      "text/plain": [
       "<Figure size 640x480 with 1 Axes>"
      ]
     },
     "metadata": {},
     "output_type": "display_data"
    }
   ],
   "source": [
    "# Insert your code here:\n",
    "import pandas as pd\n",
    "import matplotlib.pyplot as plt\n",
    "\n",
    "# Assuming you've already loaded the Titanic dataset into 'titanic_df'\n",
    "\n",
    "# Count the frequency of each 'embarked' value\n",
    "embarked_counts = titanic_df['embarked'].value_counts()\n",
    "\n",
    "# Create a bar plot using pandas built-in plotting\n",
    "embarked_counts.plot(kind='bar', rot=0)  # 'rot' controls the rotation of x-axis labels\n",
    "plt.xlabel('Port of Embarkation')\n",
    "plt.ylabel('Frequency')\n",
    "plt.title('Frequency of Passengers by Port of Embarkation')\n",
    "\n",
    "# Show the plot\n",
    "plt.show()\n",
    "\n",
    "\n",
    "\n"
   ]
  },
  {
   "cell_type": "markdown",
   "metadata": {
    "id": "x6JmJ4e09oCo"
   },
   "source": [
    "<br><br>"
   ]
  },
  {
   "cell_type": "markdown",
   "metadata": {
    "id": "SQ37WftR9oCo"
   },
   "source": [
    "## Exercise 3: Treasure Hunt\n",
    "Rubric={points:18}\n",
    "\n",
    "In this exercise, we will generate various collections of objects either as a list, a tuple, or a dictionary. Your task is to inspect the objects and look for treasure, which in our case is a particular object: **the character \"T\"**. \n",
    "\n",
    "**Your tasks:**\n",
    "\n",
    "For each of the following cases, index into the Python object to obtain the \"T\" (for Treasure). \n",
    "\n",
    "> Please do not modify the original line of code that generates `x` (though you are welcome to copy it). You are welcome to answer this question \"manually\" or by writing code - whatever works for you. However, your submission should always end with a line of code that prints out `'T'` at the end (because you've found it). "
   ]
  },
  {
   "cell_type": "code",
   "execution_count": 329,
   "metadata": {
    "id": "oVcKGwEQ9oCp"
   },
   "outputs": [],
   "source": [
    "import string\n",
    "\n",
    "letters = string.ascii_uppercase"
   ]
  },
  {
   "cell_type": "markdown",
   "metadata": {
    "id": "SRaogwWB9oCp"
   },
   "source": [
    "The first one is done for you as an example."
   ]
  },
  {
   "cell_type": "markdown",
   "metadata": {
    "id": "pnVQMuLk9oCp"
   },
   "source": [
    "#### Example question"
   ]
  },
  {
   "cell_type": "code",
   "execution_count": 330,
   "metadata": {
    "id": "n4Sgs8CS9oCp",
    "scrolled": false
   },
   "outputs": [
    {
     "data": {
      "text/plain": [
       "('nothing',\n",
       " {0: 'A',\n",
       "  -1: 'B',\n",
       "  -2: 'C',\n",
       "  -3: 'D',\n",
       "  -4: 'E',\n",
       "  -5: 'F',\n",
       "  -6: 'G',\n",
       "  -7: 'H',\n",
       "  -8: 'I',\n",
       "  -9: 'J',\n",
       "  -10: 'K',\n",
       "  -11: 'L',\n",
       "  -12: 'M',\n",
       "  -13: 'N',\n",
       "  -14: 'O',\n",
       "  -15: 'P',\n",
       "  -16: 'Q',\n",
       "  -17: 'R',\n",
       "  -18: 'S',\n",
       "  -19: 'T',\n",
       "  -20: 'U',\n",
       "  -21: 'V',\n",
       "  -22: 'W',\n",
       "  -23: 'X',\n",
       "  -24: 'Y',\n",
       "  -25: 'Z'})"
      ]
     },
     "execution_count": 330,
     "metadata": {},
     "output_type": "execute_result"
    }
   ],
   "source": [
    "x = (\"nothing\", {-i: l for i, l in enumerate(letters)})\n",
    "x"
   ]
  },
  {
   "cell_type": "markdown",
   "metadata": {
    "id": "keWCwNkr9oCq"
   },
   "source": [
    "**Example answer**:"
   ]
  },
  {
   "cell_type": "code",
   "execution_count": 331,
   "metadata": {
    "id": "WuFFPbOt9oCq"
   },
   "outputs": [
    {
     "data": {
      "text/plain": [
       "'T'"
      ]
     },
     "execution_count": 331,
     "metadata": {},
     "output_type": "execute_result"
    }
   ],
   "source": [
    "x[1][-19]"
   ]
  },
  {
   "cell_type": "markdown",
   "metadata": {
    "id": "gejpp9xL9oCq"
   },
   "source": [
    "> Note: In these questions, the goal is not to understand the code itself, which may be confusing. Instead, try to probe the types of the various objects. For example `type(x)` reveals that `x` is a tuple, and `len(x)` reveals that it has two elements. Element 0 just contains \"nothing\", but element 1 contains more stuff, hence `x[1]`. Then we can again probe `type(x[1])` and see that it's a dictionary. If you `print(x[1])` you'll see that the letter \"T\" corresponds to the key -19, hence `x[1][-19]`."
   ]
  },
  {
   "cell_type": "markdown",
   "metadata": {
    "id": "Ixl-xcPh9oCq"
   },
   "source": [
    "#### 3(a)\n",
    "rubric={points:6}\n",
    "\n",
    "Return the position(index) of 'T' when you find 'T'."
   ]
  },
  {
   "cell_type": "code",
   "execution_count": 332,
   "metadata": {
    "id": "DNlp6kbP9oCq"
   },
   "outputs": [],
   "source": [
    "# Do not modify this cell\n",
    "x = [\n",
    "    [letters[i] for i in range(26) if i % 2 == 0],\n",
    "    [letters[i] for i in range(26) if i % 2 == 1],\n",
    "]"
   ]
  },
  {
   "cell_type": "code",
   "execution_count": 333,
   "metadata": {
    "id": "RsmmYlhT9oCr"
   },
   "outputs": [
    {
     "name": "stdout",
     "output_type": "stream",
     "text": [
      "T is found at index 9 in sublist 1\n"
     ]
    }
   ],
   "source": [
    "# Insert your code here:\n",
    "# Find the position (index) of 'T'\n",
    "for i, sublist in enumerate(x):\n",
    "    if 'T' in sublist:\n",
    "        index = sublist.index('T')\n",
    "        print(f'T is found at index {index} in sublist {i}')\n"
   ]
  },
  {
   "cell_type": "markdown",
   "metadata": {
    "id": "GRDw9x7s9oCr"
   },
   "source": [
    "#### 3(b)\n",
    "rubric={points:6}\n",
    "\n",
    "Return the position(index) of 'T' when you find 'T'."
   ]
  },
  {
   "cell_type": "code",
   "execution_count": 334,
   "metadata": {
    "id": "qM3pZ2Iu9oCr"
   },
   "outputs": [],
   "source": [
    "# Do not modify this cell\n",
    "np.random.seed(1)\n",
    "x = np.random.choice(list(set(letters) - set(\"T\")), size=(100, 26), replace=True)\n",
    "x[np.random.randint(100), np.random.randint(26)] = \"T\""
   ]
  },
  {
   "cell_type": "code",
   "execution_count": 335,
   "metadata": {
    "id": "a17uu4KD9oCr"
   },
   "outputs": [
    {
     "name": "stdout",
     "output_type": "stream",
     "text": [
      "T is found at row 95, column 2\n"
     ]
    }
   ],
   "source": [
    "# Insert your code here:\n",
    "# Find the position (index) of 'T'\n",
    "for row_idx, row in enumerate(x):\n",
    "    for col_idx, element in enumerate(row):\n",
    "        if element == 'T':\n",
    "            print(f'T is found at row {row_idx}, column {col_idx}')\n",
    "            break"
   ]
  },
  {
   "cell_type": "markdown",
   "metadata": {
    "id": "NfMy0mvC9oCr"
   },
   "source": [
    "#### 3(c)\n",
    "rubric={points:6}"
   ]
  },
  {
   "cell_type": "code",
   "execution_count": 336,
   "metadata": {
    "id": "IsejfcZe9oCr"
   },
   "outputs": [],
   "source": [
    "# Do not modify this cell\n",
    "n = 26\n",
    "x = dict()\n",
    "for i in range(n):\n",
    "    x[string.ascii_lowercase[i]] = {\n",
    "        string.ascii_lowercase[(j + 1) % n]: [[letters[j]] if j - 2 == i else None]\n",
    "        for j in range(n)\n",
    "    }"
   ]
  },
  {
   "cell_type": "code",
   "execution_count": 337,
   "metadata": {
    "id": "k9ZKducw9oCs"
   },
   "outputs": [],
   "source": [
    "# Insert your code here:\n",
    "# Recursive function to find 'T' in a nested dictionary\n",
    "def find_t(dictionary):\n",
    "    for key, value in dictionary.items():\n",
    "        if key == 'T':\n",
    "            return 'T'\n",
    "        elif isinstance(value, dict):\n",
    "            result = find_t(value)\n",
    "            if result == 'T':\n",
    "                return f'{key} -> {result}'\n",
    "    return None\n",
    "\n",
    "# Find the position (index) of 'T'\n",
    "result = find_t(x)\n",
    "if result:\n",
    "    print(f'T is found at path: {result}')\n"
   ]
  },
  {
   "cell_type": "markdown",
   "metadata": {
    "id": "4o9gRxAt9oCu"
   },
   "source": [
    "## Submission instructions \n",
    "\n",
    "**PLEASE READ:** When you are ready to submit your assignment do the following:\n",
    "\n",
    "1. Run all cells in your notebook to make sure there are no errors by doing `Kernel -> Restart Kernel and Clear All Outputs` and then `Run -> Run All Cells`.\n",
    "2. Notebooks with cell execution numbers out of order will have marks deducted. Notebooks without the output displayed may not be graded at all (because we need to see the output in order to grade your work).\n",
    "3. Please keep your notebook clean and remove any throwaway code."
   ]
  },
  {
   "cell_type": "markdown",
   "metadata": {
    "id": "0WvpeQd89oC1"
   },
   "source": [
    "![](eva-congrats.png)"
   ]
  }
 ],
 "metadata": {
  "anaconda-cloud": {},
  "colab": {
   "collapsed_sections": [],
   "name": "CS4320_hw1_Students.ipynb",
   "provenance": []
  },
  "kernelspec": {
   "display_name": "Python 3 (ipykernel)",
   "language": "python",
   "name": "python3"
  },
  "language_info": {
   "codemirror_mode": {
    "name": "ipython",
    "version": 3
   },
   "file_extension": ".py",
   "mimetype": "text/x-python",
   "name": "python",
   "nbconvert_exporter": "python",
   "pygments_lexer": "ipython3",
   "version": "3.11.4"
  }
 },
 "nbformat": 4,
 "nbformat_minor": 1
}
